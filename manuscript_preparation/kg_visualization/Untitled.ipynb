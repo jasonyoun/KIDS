{
 "cells": [
  {
   "cell_type": "code",
   "execution_count": 1,
   "metadata": {},
   "outputs": [],
   "source": [
    "import pandas as pd\n",
    "import graphistry\n",
    "\n",
    "graphistry.register(api=1, protocol=\"https\", server=\"hub.graphistry.com\", key=\"4f55eede43c4020fbe604f4bb159737568e7e890c202fc943f2164dd1bdc4adf\")"
   ]
  },
  {
   "cell_type": "code",
   "execution_count": 2,
   "metadata": {},
   "outputs": [
    {
     "name": "stderr",
     "output_type": "stream",
     "text": [
      "/home/jyoun/.local/lib/python3.6/site-packages/ipykernel_launcher.py:42: SettingWithCopyWarning: \n",
      "A value is trying to be set on a copy of a slice from a DataFrame.\n",
      "Try using .loc[row_indexer,col_indexer] = value instead\n",
      "\n",
      "See the caveats in the documentation: https://pandas.pydata.org/pandas-docs/stable/user_guide/indexing.html#returning-a-view-versus-a-copy\n"
     ]
    }
   ],
   "source": [
    "# load data\n",
    "pd_data = pd.read_csv('./kg_final_with_temporal_data_and_validated_inconsistencies.txt', sep='\\t')\n",
    "pd_data = pd_data[['Subject', 'Predicate', 'Object']]\n",
    "\n",
    "# filter positives only\n",
    "neg_predicates = [\n",
    "    'confers no resistance to antibiotic',\n",
    "    'not upregulated by antibiotic',\n",
    "    'no represses',\n",
    "    'no activates',]\n",
    "\n",
    "def _check_match(x, predicates):\n",
    "    flag = False\n",
    "    for predicate in predicates:\n",
    "        if predicate in x:\n",
    "            flag = True\n",
    "    return flag\n",
    "\n",
    "pd_pos_data = pd_data[~pd_data['Predicate'].apply(lambda x: _check_match(x, neg_predicates))]\n",
    "\n",
    "# assign predicate category\n",
    "def map_func(label):\n",
    "    if 'confers resistance to antibiotic' in label:\n",
    "        return 'confers resistance to antibiotic'\n",
    "    elif 'upregulated by antibiotic' in label:\n",
    "        return 'upregulated by antibiotic'\n",
    "    elif 'represses' in label:\n",
    "        return 'represses'\n",
    "    elif 'activates' in label:\n",
    "        return 'activates'\n",
    "    elif 'has' in label:\n",
    "        return 'has'\n",
    "    elif 'is involved in' in label:\n",
    "        return 'is involved in'\n",
    "    elif 'is part of' in label:\n",
    "        return 'is part of'\n",
    "    elif 'targeted by' in label:\n",
    "        return 'targeted by'\n",
    "    else:\n",
    "        raise ValueError('Invalid label: {}'.format(label))\n",
    "\n",
    "pd_pos_data['Predicate Category'] = pd_pos_data['Predicate'].apply(lambda x: map_func(x))\n"
   ]
  },
  {
   "cell_type": "code",
   "execution_count": 4,
   "metadata": {
    "scrolled": true
   },
   "outputs": [
    {
     "data": {
      "text/html": [
       "\n",
       "            <iframe id=\"70da8ba8-59dd-4de1-9d28-b82db550404f\" src=\"https://hub.graphistry.com/graph/graph.html?dataset=5de12d675f54564984ba7df05069bae2&type=vgraph&viztoken=a4dc38cdc2ff4ad0b91d22333271491c&usertag=20ece7a4-pygraphistry-0.11.7&splashAfter=1595571548&info=true\"\n",
       "                    allowfullscreen=\"true\" webkitallowfullscreen=\"true\" mozallowfullscreen=\"true\"\n",
       "                    oallowfullscreen=\"true\" msallowfullscreen=\"true\"\n",
       "                    style=\"width:100%; height:500px; border: 1px solid #DDD\">\n",
       "            </iframe>\n",
       "        \n",
       "            <script>\n",
       "                $(\"#70da8ba8-59dd-4de1-9d28-b82db550404f\").bind('mousewheel', function(e) {\n",
       "                e.preventDefault();\n",
       "                });\n",
       "            </script>\n",
       "        "
      ],
      "text/plain": [
       "<IPython.core.display.HTML object>"
      ]
     },
     "execution_count": 4,
     "metadata": {},
     "output_type": "execute_result"
    }
   ],
   "source": [
    "g = graphistry.bind(\n",
    "    source='Subject',\n",
    "    destination='Object',\n",
    "    edge_label='Predicate',)\n",
    "\n",
    "g.plot(pd_pos_data)\n"
   ]
  },
  {
   "cell_type": "code",
   "execution_count": null,
   "metadata": {},
   "outputs": [],
   "source": []
  }
 ],
 "metadata": {
  "kernelspec": {
   "display_name": "Python 3",
   "language": "python",
   "name": "python3"
  },
  "language_info": {
   "codemirror_mode": {
    "name": "ipython",
    "version": 3
   },
   "file_extension": ".py",
   "mimetype": "text/x-python",
   "name": "python",
   "nbconvert_exporter": "python",
   "pygments_lexer": "ipython3",
   "version": "3.6.9"
  }
 },
 "nbformat": 4,
 "nbformat_minor": 4
}
